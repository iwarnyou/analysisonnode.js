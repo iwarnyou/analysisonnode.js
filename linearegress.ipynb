{
 "cells": [
  {
   "cell_type": "code",
   "execution_count": null,
   "id": "eb7bab46-c17d-417a-930d-26be2f646196",
   "metadata": {},
   "outputs": [],
   "source": [
    "import pandas as pd\n",
    "import re\n",
    "import matplotlib.pyplot as plt\n",
    "from sklearn.linear_model import LinearRegression\n",
    "import numpy as np\n",
    "\n",
    "# 读取分类后的CSV文件\n",
    "df = pd.read_csv('nodejs_cve_data_with_types.csv', encoding='ISO-8859-1')\n",
    "\n",
    "# 提取漏洞名称中的年份\n",
    "def extract_year(cve_name):\n",
    "    match = re.search(r'CVE-(\\d{4})', cve_name)\n",
    "    if match:\n",
    "        return int(match.group(1))  # 提取并返回年份\n",
    "    return None  # 如果没有匹配到年份，返回 None\n",
    "\n",
    "# 创建一个新列 'Year'，存储漏洞的发布年份\n",
    "df['Year'] = df['Name'].apply(extract_year)\n",
    "\n",
    "# 处理缺失值：将 'NaN' 填充为 0 或删除含有 'NaN' 的行\n",
    "df['Year'].fillna(0, inplace=True)\n",
    "\n",
    "# 确保年份列是整数类型\n",
    "df['Year'] = df['Year'].astype(int)\n",
    "\n",
    "# 统计每年每种类型的漏洞数量\n",
    "type_year_counts = df.groupby(['Year', 'Type']).size().unstack(fill_value=0)\n",
    "\n",
    "# 第一个图表：展示每年不同漏洞类型的数量（堆叠柱状图）\n",
    "plt.figure(figsize=(10, 6))\n",
    "type_year_counts.plot(kind='bar', stacked=True, figsize=(10, 6))\n",
    "plt.xlabel('Year')\n",
    "plt.ylabel('Number of Vulnerabilities')\n",
    "plt.title('Vulnerabilities by Year and Type')\n",
    "plt.xticks(rotation=45, ha='right')  # 设置x轴标签倾斜角度\n",
    "plt.tight_layout()\n",
    "plt.show()\n",
    "\n",
    "# 步骤 1: 检查数据的基本统计信息，找出可能的异常值\n",
    "print(type_year_counts.describe())\n",
    "\n",
    "# 步骤 2: 删除年份小于2000的异常数据（根据实际情况调整）\n",
    "df = df[df['Year'] >= 2000]\n",
    "\n",
    "# 统计每年发布的漏洞数量（删除异常值后的）\n",
    "year_counts = df['Year'].value_counts().sort_index()\n",
    "\n",
    "# 步骤 3: 对漏洞数量进行对数变换，避免极端值的影响\n",
    "year_counts_log = np.log1p(year_counts)  # 对数变换\n",
    "\n",
    "# 准备数据：年份（X）和经过对数变换后的漏洞数量（Y）\n",
    "years = year_counts.index.values.reshape(-1, 1)  # X: 年份\n",
    "vuln_counts_log = year_counts_log.values  # Y: 对数变换后的漏洞数量"
   ]
  },
  {
   "cell_type": "code",
   "execution_count": 3,
   "id": "3d5b84d0-c496-4599-bd4c-15c95e2f3b67",
   "metadata": {
    "scrolled": true
   },
   "outputs": [
    {
     "ename": "NameError",
     "evalue": "name 'years' is not defined",
     "output_type": "error",
     "traceback": [
      "\u001b[1;31m---------------------------------------------------------------------------\u001b[0m",
      "\u001b[1;31mNameError\u001b[0m                                 Traceback (most recent call last)",
      "Cell \u001b[1;32mIn[3], line 11\u001b[0m\n\u001b[0;32m      8\u001b[0m model \u001b[38;5;241m=\u001b[39m LinearRegression()\n\u001b[0;32m     10\u001b[0m \u001b[38;5;66;03m# 拟合模型\u001b[39;00m\n\u001b[1;32m---> 11\u001b[0m model\u001b[38;5;241m.\u001b[39mfit(years, vuln_counts_log)\n\u001b[0;32m     13\u001b[0m \u001b[38;5;66;03m# 预测未来的漏洞数量\u001b[39;00m\n\u001b[0;32m     14\u001b[0m future_years \u001b[38;5;241m=\u001b[39m np\u001b[38;5;241m.\u001b[39marray([\u001b[38;5;241m2026\u001b[39m, \u001b[38;5;241m2027\u001b[39m, \u001b[38;5;241m2028\u001b[39m, \u001b[38;5;241m2029\u001b[39m, \u001b[38;5;241m2030\u001b[39m])\u001b[38;5;241m.\u001b[39mreshape(\u001b[38;5;241m-\u001b[39m\u001b[38;5;241m1\u001b[39m, \u001b[38;5;241m1\u001b[39m)  \u001b[38;5;66;03m# 预测未来5年\u001b[39;00m\n",
      "\u001b[1;31mNameError\u001b[0m: name 'years' is not defined"
     ]
    }
   ],
   "source": [
    "import pandas as pd\n",
    "import re\n",
    "import matplotlib.pyplot as plt\n",
    "from sklearn.linear_model import LinearRegression\n",
    "import numpy as np\n",
    "\n",
    "# 创建线性回归模型\n",
    "model = LinearRegression()\n",
    "\n",
    "# 拟合模型\n",
    "model.fit(years, vuln_counts_log)\n",
    "\n",
    "# 预测未来的漏洞数量\n",
    "future_years = np.array([2026, 2027, 2028, 2029, 2030]).reshape(-1, 1)  # 预测未来5年\n",
    "predicted_counts_log = model.predict(future_years)\n",
    "\n",
    "# 将预测值从对数变换还原\n",
    "predicted_counts = np.expm1(predicted_counts_log)\n",
    "\n",
    "# 第二个图表：展示实际数据与预测数据的对比\n",
    "plt.figure(figsize=(10, 6))\n",
    "plt.plot(years, year_counts, label='Actual Data', color='blue', marker='o')\n",
    "plt.plot(future_years, predicted_counts, label='Predicted Data', color='red', linestyle='--', marker='x')\n",
    "\n",
    "# 添加图表标题和标签\n",
    "plt.xlabel('Year')\n",
    "plt.ylabel('Number of Vulnerabilities')\n",
    "plt.title('Vulnerability Trend and Future Predictions')\n",
    "plt.legend()\n",
    "plt.xticks(np.append(years, future_years), rotation=45, ha='right')  # 设置x轴标签倾斜角度，调整显示的年份\n",
    "plt.tight_layout()\n",
    "plt.show()\n",
    "\n",
    "# 输出未来的预测结果\n",
    "for year, count in zip(future_years.flatten(), predicted_counts):\n",
    "    print(f\"Predicted vulnerabilities in {year}: {int(count)}\")\n"
   ]
  },
  {
   "cell_type": "code",
   "execution_count": null,
   "id": "7d1f9223-b5ad-4177-aa51-7f8edb4d16fc",
   "metadata": {},
   "outputs": [],
   "source": []
  }
 ],
 "metadata": {
  "kernelspec": {
   "display_name": "Python [conda env:base] *",
   "language": "python",
   "name": "conda-base-py"
  },
  "language_info": {
   "codemirror_mode": {
    "name": "ipython",
    "version": 3
   },
   "file_extension": ".py",
   "mimetype": "text/x-python",
   "name": "python",
   "nbconvert_exporter": "python",
   "pygments_lexer": "ipython3",
   "version": "3.12.7"
  }
 },
 "nbformat": 4,
 "nbformat_minor": 5
}
