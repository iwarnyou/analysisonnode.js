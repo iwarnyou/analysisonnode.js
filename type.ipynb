{
 "cells": [
  {
   "cell_type": "code",
   "execution_count": null,
   "id": "474d492f-4a88-491c-ba3d-f84328e138c1",
   "metadata": {},
   "outputs": [],
   "source": []
  },
  {
   "cell_type": "code",
   "execution_count": 1,
   "id": "a474d93b-f294-4b2c-a049-078a784cfb80",
   "metadata": {},
   "outputs": [
    {
     "name": "stdout",
     "output_type": "stream",
     "text": [
      "             Name                                        Description    Type\n",
      "0  CVE-2025-23090  With the aid of the diagnostics_channel utilit...  Others\n",
      "1  CVE-2025-23089  This CVE has been issued to inform users that ...  Others\n",
      "2  CVE-2025-23088  This CVE has been issued to inform users that ...  Others\n",
      "3  CVE-2025-23087  This CVE has been issued to inform users that ...  Others\n",
      "4  CVE-2025-23083  With the aid of the diagnostics_channel utilit...  Others\n"
     ]
    }
   ],
   "source": [
    "import pandas as pd\n",
    "import re\n",
    "\n",
    "# 定义每种类型的关键词\n",
    "vulnerability_types = {\n",
    "    \"SQL Injection\": [\"SQL injection\", \"SQLi\", \"SQL injection vulnerability\"],\n",
    "    \"XSS\": [\"Cross-site scripting\", \"XSS\", \"script injection\"],\n",
    "    \"RCE\": [\"Remote Code Execution\", \"RCE\", \"command injection\"],\n",
    "    \"Privilege Escalation\": [\"Privilege Escalation\", \"Privilege escalation\", \"unauthorized access\"],\n",
    "    \"Others\": []  # 其他没有明确分类的漏洞类型\n",
    "}\n",
    "\n",
    "# 读取CSV文件\n",
    "df = pd.read_csv('nodejs_cve_data.csv')\n",
    "\n",
    "# 函数：根据漏洞描述分类\n",
    "def categorize_by_type(description):\n",
    "    for vuln_type, keywords in vulnerability_types.items():\n",
    "        for keyword in keywords:\n",
    "            if re.search(keyword, description, re.IGNORECASE):\n",
    "                return vuln_type\n",
    "    return \"Others\"  # 如果没有匹配到任何关键词，归为其他类型\n",
    "\n",
    "# 为每个漏洞添加类型列\n",
    "df['Type'] = df['Description'].apply(categorize_by_type)\n",
    "\n",
    "# 保存分类结果到新的CSV文件\n",
    "df.to_csv('nodejs_cve_data_with_types.csv', index=False)\n",
    "\n",
    "# 输出部分结果以检查\n",
    "print(df[['Name', 'Description', 'Type']].head())\n"
   ]
  },
  {
   "cell_type": "code",
   "execution_count": null,
   "id": "cf53f748-f615-4573-aab4-906d43b420a7",
   "metadata": {},
   "outputs": [],
   "source": []
  }
 ],
 "metadata": {
  "kernelspec": {
   "display_name": "datest",
   "language": "python",
   "name": "datest"
  },
  "language_info": {
   "codemirror_mode": {
    "name": "ipython",
    "version": 3
   },
   "file_extension": ".py",
   "mimetype": "text/x-python",
   "name": "python",
   "nbconvert_exporter": "python",
   "pygments_lexer": "ipython3",
   "version": "3.12.7"
  }
 },
 "nbformat": 4,
 "nbformat_minor": 5
}
