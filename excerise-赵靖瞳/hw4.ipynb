{
 "cells": [
  {
   "cell_type": "code",
   "execution_count": 1,
   "id": "0e94206a-bbca-4147-8a66-1c8c82dd90a5",
   "metadata": {},
   "outputs": [
    {
     "data": {
      "text/plain": [
       "[0, 1, 4, 9, 16, 25, 36, 49, 64, 81]"
      ]
     },
     "execution_count": 1,
     "metadata": {},
     "output_type": "execute_result"
    }
   ],
   "source": [
    "from functools import reduce\n",
    "mapped = map(lambda x: x**2, range(10))\n",
    "list(mapped)"
   ]
  },
  {
   "cell_type": "code",
   "execution_count": 3,
   "id": "ecadb5ce-4ba3-4c30-bb4c-34e27544e30f",
   "metadata": {},
   "outputs": [
    {
     "data": {
      "text/plain": [
       "[0, 1, 4, 9, 16]"
      ]
     },
     "execution_count": 3,
     "metadata": {},
     "output_type": "execute_result"
    }
   ],
   "source": [
    "def less_than_20(x):\n",
    "    return x < 20\n",
    "mapped = map(lambda x: x**2, range(10)) \n",
    "filtered = list(filter(less_than_20, mapped))#用list进行一下转换\n",
    "filtered"
   ]
  },
  {
   "cell_type": "code",
   "execution_count": 5,
   "id": "ebcc1f3b-7883-4fa0-8fd8-175136a72fde",
   "metadata": {},
   "outputs": [
    {
     "data": {
      "text/plain": [
       "30"
      ]
     },
     "execution_count": 5,
     "metadata": {},
     "output_type": "execute_result"
    }
   ],
   "source": [
    "reduced = reduce(lambda x, y: y+x, filtered)\n",
    "reduced"
   ]
  },
  {
   "cell_type": "code",
   "execution_count": 7,
   "id": "0a2c9cfa-f289-4d60-b4f5-c205eab49e4e",
   "metadata": {},
   "outputs": [
    {
     "data": {
      "text/plain": [
       "1"
      ]
     },
     "execution_count": 7,
     "metadata": {},
     "output_type": "execute_result"
    }
   ],
   "source": [
    "a = (1)\n",
    "a"
   ]
  },
  {
   "cell_type": "code",
   "execution_count": 9,
   "id": "3dc4c9b9-d381-4ac6-8bef-54c451e9fb3b",
   "metadata": {},
   "outputs": [
    {
     "data": {
      "text/plain": [
       "(1,)"
      ]
     },
     "execution_count": 9,
     "metadata": {},
     "output_type": "execute_result"
    }
   ],
   "source": [
    "a = (1,)\n",
    "a"
   ]
  },
  {
   "cell_type": "code",
   "execution_count": 11,
   "id": "b5d213e8-7068-4a9a-8b02-6b5c63bd51b9",
   "metadata": {},
   "outputs": [
    {
     "data": {
      "text/plain": [
       "int"
      ]
     },
     "execution_count": 11,
     "metadata": {},
     "output_type": "execute_result"
    }
   ],
   "source": [
    "a = (1)\n",
    "type(a)"
   ]
  },
  {
   "cell_type": "code",
   "execution_count": 13,
   "id": "14e1ddd0-2266-4f63-85f8-05fccd015033",
   "metadata": {},
   "outputs": [
    {
     "data": {
      "text/plain": [
       "tuple"
      ]
     },
     "execution_count": 13,
     "metadata": {},
     "output_type": "execute_result"
    }
   ],
   "source": [
    "type((1,))"
   ]
  },
  {
   "cell_type": "code",
   "execution_count": 15,
   "id": "01b4cfe9-3466-4f2c-bd22-a51988d12ef2",
   "metadata": {},
   "outputs": [
    {
     "data": {
      "text/plain": [
       "(1,)"
      ]
     },
     "execution_count": 15,
     "metadata": {},
     "output_type": "execute_result"
    }
   ],
   "source": [
    "1,"
   ]
  },
  {
   "cell_type": "code",
   "execution_count": 17,
   "id": "8debc8dc-7e2b-4af2-a4eb-1c9a464c706d",
   "metadata": {},
   "outputs": [
    {
     "data": {
      "text/plain": [
       "(1,)"
      ]
     },
     "execution_count": 17,
     "metadata": {},
     "output_type": "execute_result"
    }
   ],
   "source": [
    "1,"
   ]
  },
  {
   "cell_type": "code",
   "execution_count": 19,
   "id": "dd6ac284-6ffe-4fb4-b5b6-7437f26374a7",
   "metadata": {},
   "outputs": [
    {
     "data": {
      "text/plain": [
       "[1]"
      ]
     },
     "execution_count": 19,
     "metadata": {},
     "output_type": "execute_result"
    }
   ],
   "source": [
    "[1]"
   ]
  },
  {
   "cell_type": "code",
   "execution_count": 21,
   "id": "4039f0c0-fc92-4c7e-afc3-046fe707277c",
   "metadata": {},
   "outputs": [
    {
     "data": {
      "text/plain": [
       "2"
      ]
     },
     "execution_count": 21,
     "metadata": {},
     "output_type": "execute_result"
    }
   ],
   "source": [
    "#列表[1,]\n",
    "a = (1, 2, 3)\n",
    "a[1]"
   ]
  },
  {
   "cell_type": "code",
   "execution_count": 23,
   "id": "c122bcc9-6b77-4513-9ec6-57b28243771c",
   "metadata": {},
   "outputs": [
    {
     "data": {
      "text/plain": [
       "(1, 2)"
      ]
     },
     "execution_count": 23,
     "metadata": {},
     "output_type": "execute_result"
    }
   ],
   "source": [
    "a[0:2]#左闭右开"
   ]
  },
  {
   "cell_type": "code",
   "execution_count": 25,
   "id": "2a0a3b6e-0c97-4c33-aafa-6fde3c93d80a",
   "metadata": {},
   "outputs": [
    {
     "ename": "TypeError",
     "evalue": "'tuple' object does not support item assignment",
     "output_type": "error",
     "traceback": [
      "\u001b[1;31m---------------------------------------------------------------------------\u001b[0m",
      "\u001b[1;31mTypeError\u001b[0m                                 Traceback (most recent call last)",
      "Cell \u001b[1;32mIn[25], line 1\u001b[0m\n\u001b[1;32m----> 1\u001b[0m a[\u001b[38;5;241m0\u001b[39m] \u001b[38;5;241m=\u001b[39m \u001b[38;5;241m10\u001b[39m\n",
      "\u001b[1;31mTypeError\u001b[0m: 'tuple' object does not support item assignment"
     ]
    }
   ],
   "source": [
    "a[0] = 10"
   ]
  },
  {
   "cell_type": "code",
   "execution_count": 27,
   "id": "e8bf7996-3b4d-41a4-b1b5-e7d053166b1f",
   "metadata": {},
   "outputs": [
    {
     "data": {
      "text/plain": [
       "(1, 2, 'hello', [1, 2, 3, 4])"
      ]
     },
     "execution_count": 27,
     "metadata": {},
     "output_type": "execute_result"
    }
   ],
   "source": [
    "b = (1, 2, \"hello\", [1, 2, 3])\n",
    "#可以修改嵌套在元组中的列表\n",
    "b[-1].append(4)\n",
    "b"
   ]
  },
  {
   "cell_type": "code",
   "execution_count": 29,
   "id": "0e60102c-b345-437f-91b9-e8b401e6573b",
   "metadata": {},
   "outputs": [
    {
     "ename": "TypeError",
     "evalue": "'tuple' object does not support item assignment",
     "output_type": "error",
     "traceback": [
      "\u001b[1;31m---------------------------------------------------------------------------\u001b[0m",
      "\u001b[1;31mTypeError\u001b[0m                                 Traceback (most recent call last)",
      "Cell \u001b[1;32mIn[29], line 1\u001b[0m\n\u001b[1;32m----> 1\u001b[0m b[\u001b[38;5;241m-\u001b[39m\u001b[38;5;241m1\u001b[39m] \u001b[38;5;241m+\u001b[39m\u001b[38;5;241m=\u001b[39m [\u001b[38;5;241m5\u001b[39m]\n",
      "\u001b[1;31mTypeError\u001b[0m: 'tuple' object does not support item assignment"
     ]
    }
   ],
   "source": [
    "b[-1] += [5]"
   ]
  },
  {
   "cell_type": "code",
   "execution_count": 31,
   "id": "21fed261-51c5-4cc5-ae86-1e59a1872b14",
   "metadata": {},
   "outputs": [
    {
     "data": {
      "text/plain": [
       "(1, 2, 'hello', [1, 2, 3, 4, 5])"
      ]
     },
     "execution_count": 31,
     "metadata": {},
     "output_type": "execute_result"
    }
   ],
   "source": [
    "b"
   ]
  },
  {
   "cell_type": "code",
   "execution_count": 33,
   "id": "e077078b-3464-45a7-ba3f-91b678d45d58",
   "metadata": {},
   "outputs": [
    {
     "name": "stdout",
     "output_type": "stream",
     "text": [
      "2 1\n"
     ]
    }
   ],
   "source": [
    "c = 1, 2\n",
    "c = 1\n",
    "d = 2\n",
    "c, d = d, c\n",
    "print(c, d)"
   ]
  },
  {
   "cell_type": "code",
   "execution_count": 35,
   "id": "30725436-3a8c-496e-bad7-531f0ec7b57f",
   "metadata": {},
   "outputs": [
    {
     "name": "stdout",
     "output_type": "stream",
     "text": [
      "world hello\n"
     ]
    }
   ],
   "source": [
    "c = \"hello\"\n",
    "d = \"world\"\n",
    "c, d = d, c\n",
    "print(c, d)"
   ]
  },
  {
   "cell_type": "code",
   "execution_count": 37,
   "id": "c5f3afaa-ae8d-42fb-af73-9589b5fc2ad2",
   "metadata": {},
   "outputs": [
    {
     "ename": "SyntaxError",
     "evalue": "incomplete input (706403018.py, line 1)",
     "output_type": "error",
     "traceback": [
      "\u001b[1;36m  Cell \u001b[1;32mIn[37], line 1\u001b[1;36m\u001b[0m\n\u001b[1;33m    def foo():\u001b[0m\n\u001b[1;37m              ^\u001b[0m\n\u001b[1;31mSyntaxError\u001b[0m\u001b[1;31m:\u001b[0m incomplete input\n"
     ]
    }
   ],
   "source": [
    "def foo():"
   ]
  },
  {
   "cell_type": "code",
   "execution_count": 39,
   "id": "486026f2-44e2-403c-8688-f52dd4afd55b",
   "metadata": {},
   "outputs": [
    {
     "name": "stdout",
     "output_type": "stream",
     "text": [
      "1 2\n"
     ]
    }
   ],
   "source": [
    "def foo():\n",
    "    return 1, 2\n",
    "e, f = foo()\n",
    "print(e, f)"
   ]
  },
  {
   "cell_type": "code",
   "execution_count": 41,
   "id": "52f8f9a4-ace5-4d90-9b07-59f3ab50ec02",
   "metadata": {},
   "outputs": [
    {
     "name": "stdout",
     "output_type": "stream",
     "text": [
      "(1, 2)\n"
     ]
    }
   ],
   "source": [
    "e = foo()\n",
    "print(e)"
   ]
  },
  {
   "cell_type": "code",
   "execution_count": 43,
   "id": "30d33e66-6c3e-4b7c-972d-45672386ad41",
   "metadata": {},
   "outputs": [
    {
     "data": {
      "text/plain": [
       "dict"
      ]
     },
     "execution_count": 43,
     "metadata": {},
     "output_type": "execute_result"
    }
   ],
   "source": [
    "#此时返回元组\n",
    "empty = {}\n",
    "type(empty)"
   ]
  },
  {
   "cell_type": "code",
   "execution_count": 45,
   "id": "ec063779-b0d6-4af7-843c-e0f1cb807279",
   "metadata": {},
   "outputs": [
    {
     "data": {
      "text/plain": [
       "{}"
      ]
     },
     "execution_count": 45,
     "metadata": {},
     "output_type": "execute_result"
    }
   ],
   "source": [
    "empty2 = dict()\n",
    "empty2"
   ]
  },
  {
   "cell_type": "code",
   "execution_count": 47,
   "id": "d1af27b3-633c-4e31-ad88-39f87742f728",
   "metadata": {},
   "outputs": [
    {
     "data": {
      "text/plain": [
       "<function dict.keys>"
      ]
     },
     "execution_count": 47,
     "metadata": {},
     "output_type": "execute_result"
    }
   ],
   "source": [
    "d = {1:2, \"hello\": \"world\", (3, 4):[3,4]}\n",
    "d.keys"
   ]
  },
  {
   "cell_type": "code",
   "execution_count": 49,
   "id": "770ef9ea-63a9-4e96-8c4c-10971e99545a",
   "metadata": {},
   "outputs": [
    {
     "data": {
      "text/plain": [
       "dict_keys([1, 'hello', (3, 4)])"
      ]
     },
     "execution_count": 49,
     "metadata": {},
     "output_type": "execute_result"
    }
   ],
   "source": [
    "d.keys()"
   ]
  },
  {
   "cell_type": "code",
   "execution_count": 51,
   "id": "e817546a-3af0-4905-ae2c-fa2544d6c405",
   "metadata": {},
   "outputs": [
    {
     "data": {
      "text/plain": [
       "{1: 2, 'hello': 'world', (3, 4): [3, 4], (1, 2): 50}"
      ]
     },
     "execution_count": 51,
     "metadata": {},
     "output_type": "execute_result"
    }
   ],
   "source": [
    "d[(1, 2)] = 50\n",
    "d"
   ]
  },
  {
   "cell_type": "code",
   "execution_count": 3,
   "id": "d961b0ee-fef9-482e-905a-45e30445f549",
   "metadata": {},
   "outputs": [
    {
     "name": "stdout",
     "output_type": "stream",
     "text": [
      "Collecting lolviz\n",
      "  Using cached lolviz-1.4.4.tar.gz (11 kB)\n",
      "  Preparing metadata (setup.py): started\n",
      "  Preparing metadata (setup.py): finished with status 'done'\n",
      "Collecting graphviz (from lolviz)\n",
      "  Downloading graphviz-0.20.3-py3-none-any.whl.metadata (12 kB)\n",
      "Downloading graphviz-0.20.3-py3-none-any.whl (47 kB)\n",
      "Building wheels for collected packages: lolviz\n",
      "  Building wheel for lolviz (setup.py): started\n",
      "  Building wheel for lolviz (setup.py): finished with status 'done'\n",
      "  Created wheel for lolviz: filename=lolviz-1.4.4-py3-none-any.whl size=9811 sha256=871829bdccfd8e3f1210253d6ebd88efdf67cdfab36c4c4894e78d2556cd7890\n",
      "  Stored in directory: c:\\users\\hp\\appdata\\local\\pip\\cache\\wheels\\0b\\9f\\07\\1f985380ba6ff8dc6e398945ebd689704c3a01e999d5dbfe4d\n",
      "Successfully built lolviz\n",
      "Installing collected packages: graphviz, lolviz\n",
      "Successfully installed graphviz-0.20.3 lolviz-1.4.4\n",
      "Note: you may need to restart the kernel to use updated packages.\n"
     ]
    }
   ],
   "source": [
    "pip install lolviz"
   ]
  },
  {
   "cell_type": "code",
   "execution_count": 5,
   "id": "7a5a1aa2-d2a6-4699-b355-5848c6d50eba",
   "metadata": {
    "scrolled": true
   },
   "outputs": [],
   "source": [
    "from lolviz import *\n",
    "import lolviz"
   ]
  },
  {
   "cell_type": "code",
   "execution_count": null,
   "id": "93115f20-2610-45b7-a105-121fc907f7b8",
   "metadata": {},
   "outputs": [],
   "source": []
  },
  {
   "cell_type": "code",
   "execution_count": null,
   "id": "5a23c9dd-6013-4e13-8b8a-06e0b6bfa5c2",
   "metadata": {},
   "outputs": [],
   "source": []
  }
 ],
 "metadata": {
  "kernelspec": {
   "display_name": "Python [conda env:base] *",
   "language": "python",
   "name": "conda-base-py"
  },
  "language_info": {
   "codemirror_mode": {
    "name": "ipython",
    "version": 3
   },
   "file_extension": ".py",
   "mimetype": "text/x-python",
   "name": "python",
   "nbconvert_exporter": "python",
   "pygments_lexer": "ipython3",
   "version": "3.12.7"
  }
 },
 "nbformat": 4,
 "nbformat_minor": 5
}
