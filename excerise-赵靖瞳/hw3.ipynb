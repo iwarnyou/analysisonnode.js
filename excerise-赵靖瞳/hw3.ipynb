{
 "cells": [
  {
   "cell_type": "code",
   "execution_count": 1,
   "id": "c957157b-6283-4bcd-9d1b-d7de52675272",
   "metadata": {},
   "outputs": [],
   "source": [
    "class TNode:\n",
    "    def __init__(self, value, left = None, right = None):\n",
    "        self.value = value\n",
    "        self.left = left\n",
    "        self.right = right"
   ]
  },
  {
   "cell_type": "code",
   "execution_count": 3,
   "id": "af240614-2897-407f-931e-dd8bb6e2bd06",
   "metadata": {},
   "outputs": [],
   "source": [
    "node = TNode(3, None, None)"
   ]
  },
  {
   "cell_type": "code",
   "execution_count": 5,
   "id": "68b7913e-29f9-4515-bdaf-431dd57e40e1",
   "metadata": {},
   "outputs": [],
   "source": [
    "tree = TNode(5, TNode(3), TNode(4, TNode(7), TNode(8)))"
   ]
  },
  {
   "cell_type": "code",
   "execution_count": 7,
   "id": "98e9ac90-2e9a-4d8e-acff-3f48ac7b8b0d",
   "metadata": {},
   "outputs": [],
   "source": [
    "# 二叉搜索树\n",
    "def insert_bst(node, value):\n",
    "    if not node:\n",
    "        return TNode(value)\n",
    "    elif node.value < value:\n",
    "        return TNode(node.value, node.left, insert_bst(node.right, value))\n",
    "    elif node.value == value:\n",
    "        return node\n",
    "    else:\n",
    "        return TNode(node.value, insert_bst(node.left, value), node.right)"
   ]
  },
  {
   "cell_type": "code",
   "execution_count": 9,
   "id": "a3e4544d-6089-4809-870e-2e97ad6fe86d",
   "metadata": {},
   "outputs": [],
   "source": [
    "a = insert_bst(None, 5)\n",
    "b = insert_bst(a, 4)\n",
    "c = insert_bst(b, 6)\n",
    "d = insert_bst(c, 7)"
   ]
  },
  {
   "cell_type": "code",
   "execution_count": 11,
   "id": "e564b72b-7bfa-490e-a350-15397c8c17aa",
   "metadata": {},
   "outputs": [],
   "source": [
    "# 中序遍历\n",
    "def traverse(node):\n",
    "    if not node:\n",
    "        return \n",
    "    else:\n",
    "        #left\n",
    "        traverse(node.left)\n",
    "        #node\n",
    "        print(node.value)\n",
    "        #right\n",
    "        traverse(node.right)"
   ]
  },
  {
   "cell_type": "code",
   "execution_count": 13,
   "id": "d09fbd48-d9c2-4f24-8275-7d5880f49301",
   "metadata": {},
   "outputs": [
    {
     "name": "stdout",
     "output_type": "stream",
     "text": [
      "5\n"
     ]
    }
   ],
   "source": [
    "traverse(a)"
   ]
  },
  {
   "cell_type": "code",
   "execution_count": 15,
   "id": "5c4e22dc-2261-48af-aaed-f3fcccecaf6a",
   "metadata": {},
   "outputs": [
    {
     "name": "stdout",
     "output_type": "stream",
     "text": [
      "4\n",
      "5\n",
      "6\n",
      "7\n"
     ]
    }
   ],
   "source": [
    "traverse(d)"
   ]
  },
  {
   "cell_type": "code",
   "execution_count": 17,
   "id": "d5605e2c-0ee7-497b-8d57-af7f73f3d3b3",
   "metadata": {},
   "outputs": [
    {
     "name": "stdout",
     "output_type": "stream",
     "text": [
      "5\n"
     ]
    }
   ],
   "source": [
    "traverse(a)"
   ]
  },
  {
   "cell_type": "code",
   "execution_count": 19,
   "id": "7df935d6-8992-4341-b188-c8a300d77b82",
   "metadata": {},
   "outputs": [
    {
     "ename": "TypeError",
     "evalue": "RobotFileParser.can_fetch() missing 1 required positional argument: 'url'",
     "output_type": "error",
     "traceback": [
      "\u001b[1;31m---------------------------------------------------------------------------\u001b[0m",
      "\u001b[1;31mTypeError\u001b[0m                                 Traceback (most recent call last)",
      "Cell \u001b[1;32mIn[19], line 5\u001b[0m\n\u001b[0;32m      3\u001b[0m rp\u001b[38;5;241m.\u001b[39mset_url(\u001b[38;5;124m\"\u001b[39m\u001b[38;5;124mhttps://www.baidu.com/\u001b[39m\u001b[38;5;124m\"\u001b[39m)\n\u001b[0;32m      4\u001b[0m rp\u001b[38;5;241m.\u001b[39mread()\n\u001b[1;32m----> 5\u001b[0m rp\u001b[38;5;241m.\u001b[39mcan_fetch(\u001b[38;5;124m\"\u001b[39m\u001b[38;5;124mhttps://www.baidu.com/abc\u001b[39m\u001b[38;5;124m\"\u001b[39m)\n",
      "\u001b[1;31mTypeError\u001b[0m: RobotFileParser.can_fetch() missing 1 required positional argument: 'url'"
     ]
    }
   ],
   "source": [
    "from urllib import robotparser\n",
    "rp = robotparser.RobotFileParser()\n",
    "rp.set_url(\"https://www.baidu.com/\")\n",
    "rp.read()\n",
    "rp.can_fetch(\"https://www.baidu.com/abc\")"
   ]
  },
  {
   "cell_type": "code",
   "execution_count": 21,
   "id": "b5a44b67-88d9-4b2f-ac59-b10aed73af57",
   "metadata": {},
   "outputs": [],
   "source": [
    "url = \"http://httpbin.org/get\""
   ]
  },
  {
   "cell_type": "code",
   "execution_count": null,
   "id": "f43424b7-3f19-4bb5-99f8-4880fa45fa55",
   "metadata": {},
   "outputs": [],
   "source": []
  }
 ],
 "metadata": {
  "kernelspec": {
   "display_name": "Python [conda env:base] *",
   "language": "python",
   "name": "conda-base-py"
  },
  "language_info": {
   "codemirror_mode": {
    "name": "ipython",
    "version": 3
   },
   "file_extension": ".py",
   "mimetype": "text/x-python",
   "name": "python",
   "nbconvert_exporter": "python",
   "pygments_lexer": "ipython3",
   "version": "3.12.7"
  }
 },
 "nbformat": 4,
 "nbformat_minor": 5
}
