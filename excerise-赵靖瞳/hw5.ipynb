{
 "cells": [
  {
   "cell_type": "code",
   "execution_count": 3,
   "id": "64326e54-2548-4db6-8903-572e3656eab6",
   "metadata": {},
   "outputs": [
    {
     "data": {
      "text/plain": [
       "{1: 2, 'hello': 'world', (12,): 45}"
      ]
     },
     "execution_count": 3,
     "metadata": {},
     "output_type": "execute_result"
    }
   ],
   "source": [
    "dict([(1, 2),\n",
    "      (\"hello\", \"world\"),\n",
    "        ((12, ), 45),\n",
    "       ])"
   ]
  },
  {
   "cell_type": "code",
   "execution_count": 5,
   "id": "2c6eb5c5-09a4-4022-84e5-fdcb0b34294f",
   "metadata": {},
   "outputs": [
    {
     "data": {
      "text/plain": [
       "{0: 0, 1: 1, 2: 4, 3: 9, 4: 16, 5: 25, 6: 36, 7: 49, 8: 64, 9: 81}"
      ]
     },
     "execution_count": 5,
     "metadata": {},
     "output_type": "execute_result"
    }
   ],
   "source": [
    "{x: x**2 for x in range(10)}"
   ]
  },
  {
   "cell_type": "code",
   "execution_count": 7,
   "id": "57e1bee1-df57-4a53-98ec-a793f37c7c21",
   "metadata": {},
   "outputs": [
    {
     "data": {
      "text/plain": [
       "{0: 0, 1: 1, 4: 2, 9: 3, 16: 4, 25: 5, 36: 6, 49: 7, 64: 8, 81: 9}"
      ]
     },
     "execution_count": 7,
     "metadata": {},
     "output_type": "execute_result"
    }
   ],
   "source": [
    "{x**2: x for x in range(10)}"
   ]
  },
  {
   "cell_type": "code",
   "execution_count": 9,
   "id": "90636aa2-7d40-400a-b119-90382e6f8b8b",
   "metadata": {},
   "outputs": [
    {
     "data": {
      "text/plain": [
       "[-2, -1, 0, 1]"
      ]
     },
     "execution_count": 9,
     "metadata": {},
     "output_type": "execute_result"
    }
   ],
   "source": [
    "list(range(-2, 2))"
   ]
  },
  {
   "cell_type": "code",
   "execution_count": 11,
   "id": "42fc1f98-da48-4b65-b43d-ee1168c28020",
   "metadata": {},
   "outputs": [
    {
     "data": {
      "text/plain": [
       "{4: -2, 1: 1, 0: 0}"
      ]
     },
     "execution_count": 11,
     "metadata": {},
     "output_type": "execute_result"
    }
   ],
   "source": [
    "{x**2: x for x in range(-2, 2)}"
   ]
  },
  {
   "cell_type": "code",
   "execution_count": null,
   "id": "5786aa83-4390-4094-a0f9-c22a2d91c718",
   "metadata": {},
   "outputs": [],
   "source": []
  }
 ],
 "metadata": {
  "kernelspec": {
   "display_name": "Python [conda env:base] *",
   "language": "python",
   "name": "conda-base-py"
  },
  "language_info": {
   "codemirror_mode": {
    "name": "ipython",
    "version": 3
   },
   "file_extension": ".py",
   "mimetype": "text/x-python",
   "name": "python",
   "nbconvert_exporter": "python",
   "pygments_lexer": "ipython3",
   "version": "3.12.7"
  }
 },
 "nbformat": 4,
 "nbformat_minor": 5
}
