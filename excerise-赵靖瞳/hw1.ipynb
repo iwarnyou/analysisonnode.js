{
 "cells": [
  {
   "cell_type": "code",
   "execution_count": 1,
   "id": "627a65cc-8519-4af0-8470-fd173497a4cb",
   "metadata": {},
   "outputs": [
    {
     "data": {
      "text/plain": [
       "13"
      ]
     },
     "execution_count": 1,
     "metadata": {},
     "output_type": "execute_result"
    }
   ],
   "source": [
    "#!/usr/bin/env python\n",
    "# coding: utf-8\n",
    "\n",
    "\n",
    "def foo(bar, buz):\n",
    "    if bar > buz:\n",
    "        bar += buz\n",
    "    else:\n",
    "        buz *= bar\n",
    "\n",
    "    return bar + buz\n",
    "\n",
    "foo(3, 4)\n",
    "foo(5, 4)\n"
   ]
  },
  {
   "cell_type": "code",
   "execution_count": 3,
   "id": "5b902065-6ddb-43d8-bbbd-ecf658e6053c",
   "metadata": {},
   "outputs": [],
   "source": [
    "#!/usr/bin/env python\n",
    "# coding: utf-8\n",
    "\n",
    "from flask import Flask\n",
    "\n",
    "app = Flask(__name__) # 'hello'\n",
    "\n",
    "@app.route(\"/<name>\")\n",
    "def hello(name):\n",
    "    return f\"\"\"<!DOCTYPE html>\n",
    "<html>\n",
    "    <body>\n",
    "        <p>hello world, <b>{name}</b></p>\n",
    "    </body>\n",
    "</html>\"\"\""
   ]
  },
  {
   "cell_type": "code",
   "execution_count": null,
   "id": "03ba29b3-adb7-47c9-b512-8d8134b95deb",
   "metadata": {},
   "outputs": [
    {
     "name": "stdout",
     "output_type": "stream",
     "text": [
      " * Serving Flask app '__main__'\n",
      " * Debug mode: off\n"
     ]
    },
    {
     "name": "stderr",
     "output_type": "stream",
     "text": [
      "WARNING: This is a development server. Do not use it in a production deployment. Use a production WSGI server instead.\n",
      " * Running on http://127.0.0.1:5000\n",
      "Press CTRL+C to quit\n"
     ]
    }
   ],
   "source": [
    "#!/usr/bin/env python\n",
    "# coding: utf-8\n",
    "\n",
    "from flask import Flask\n",
    "\n",
    "\n",
    "app = Flask(__name__)\n",
    "\n",
    "\n",
    "@app.route(\"/<name>\")\n",
    "def hello(name):\n",
    "    return f\"\"\"<!DOCTYPE html>\n",
    "<html>\n",
    "    <body>\n",
    "        <p>hello world, <b>{name}</b></p>\n",
    "    </body>\n",
    "</html>\"\"\"\n",
    "\n",
    "\n",
    "if __name__ == \"__main__\":\n",
    "    app.run()"
   ]
  },
  {
   "cell_type": "code",
   "execution_count": null,
   "id": "574f0d61-e41e-4159-bfe7-7df1cc298558",
   "metadata": {},
   "outputs": [],
   "source": [
    "pip install coverage pysnooper z3-solver libcst pymongo flask"
   ]
  },
  {
   "cell_type": "code",
   "execution_count": null,
   "id": "c50ff69b-cf63-4329-bfc3-42843e59346f",
   "metadata": {},
   "outputs": [],
   "source": []
  }
 ],
 "metadata": {
  "kernelspec": {
   "display_name": "Python [conda env:base] *",
   "language": "python",
   "name": "conda-base-py"
  },
  "language_info": {
   "codemirror_mode": {
    "name": "ipython",
    "version": 3
   },
   "file_extension": ".py",
   "mimetype": "text/x-python",
   "name": "python",
   "nbconvert_exporter": "python",
   "pygments_lexer": "ipython3",
   "version": "3.12.7"
  }
 },
 "nbformat": 4,
 "nbformat_minor": 5
}
