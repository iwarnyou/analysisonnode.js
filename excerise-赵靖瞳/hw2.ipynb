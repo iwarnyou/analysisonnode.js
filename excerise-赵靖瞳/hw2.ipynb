{
 "cells": [
  {
   "cell_type": "code",
   "execution_count": 1,
   "id": "10419a5f-8c95-43bd-8728-211892fa0391",
   "metadata": {},
   "outputs": [
    {
     "name": "stdout",
     "output_type": "stream",
     "text": [
      "Collecting z3-solver\n",
      "  Downloading z3_solver-4.13.4.0-py3-none-win_amd64.whl.metadata (601 bytes)\n",
      "Downloading z3_solver-4.13.4.0-py3-none-win_amd64.whl (16.1 MB)\n",
      "   ---------------------------------------- 0.0/16.1 MB ? eta -:--:--\n",
      "    --------------------------------------- 0.3/16.1 MB ? eta -:--:--\n",
      "   --- ------------------------------------ 1.3/16.1 MB 4.5 MB/s eta 0:00:04\n",
      "   ----- ---------------------------------- 2.1/16.1 MB 4.3 MB/s eta 0:00:04\n",
      "   ------- -------------------------------- 2.9/16.1 MB 4.4 MB/s eta 0:00:03\n",
      "   --------- ------------------------------ 3.9/16.1 MB 4.3 MB/s eta 0:00:03\n",
      "   ----------- ---------------------------- 4.5/16.1 MB 4.2 MB/s eta 0:00:03\n",
      "   ------------- -------------------------- 5.2/16.1 MB 4.0 MB/s eta 0:00:03\n",
      "   -------------- ------------------------- 6.0/16.1 MB 3.9 MB/s eta 0:00:03\n",
      "   ---------------- ----------------------- 6.6/16.1 MB 3.9 MB/s eta 0:00:03\n",
      "   ------------------ --------------------- 7.3/16.1 MB 3.8 MB/s eta 0:00:03\n",
      "   -------------------- ------------------- 8.1/16.1 MB 3.8 MB/s eta 0:00:03\n",
      "   ---------------------- ----------------- 8.9/16.1 MB 3.8 MB/s eta 0:00:02\n",
      "   ------------------------ --------------- 9.7/16.1 MB 3.8 MB/s eta 0:00:02\n",
      "   -------------------------- ------------- 10.5/16.1 MB 3.9 MB/s eta 0:00:02\n",
      "   ---------------------------- ----------- 11.3/16.1 MB 3.9 MB/s eta 0:00:02\n",
      "   ------------------------------ --------- 12.3/16.1 MB 3.9 MB/s eta 0:00:01\n",
      "   -------------------------------- ------- 13.1/16.1 MB 3.9 MB/s eta 0:00:01\n",
      "   ---------------------------------- ----- 13.9/16.1 MB 3.9 MB/s eta 0:00:01\n",
      "   ------------------------------------ --- 14.7/16.1 MB 3.9 MB/s eta 0:00:01\n",
      "   -------------------------------------- - 15.5/16.1 MB 3.9 MB/s eta 0:00:01\n",
      "   ---------------------------------------- 16.1/16.1 MB 3.9 MB/s eta 0:00:00\n",
      "Installing collected packages: z3-solver\n",
      "Successfully installed z3-solver-4.13.4.0\n",
      "Note: you may need to restart the kernel to use updated packages.\n"
     ]
    }
   ],
   "source": [
    "pip install z3-solver"
   ]
  },
  {
   "cell_type": "code",
   "execution_count": 1,
   "id": "de57f126-d797-4dc9-b59d-520094be2ff8",
   "metadata": {},
   "outputs": [
    {
     "name": "stdout",
     "output_type": "stream",
     "text": [
      "[rabbits = 12, chicken = 23]\n"
     ]
    }
   ],
   "source": [
    "# SQL\n",
    "# prolog\n",
    "import z3\n",
    "chicken = z3.Int(\"chicken\")\n",
    "rabbits = z3.Int(\"rabbits\")\n",
    "solver = z3.Solver()\n",
    "solver.add(chicken >= 1)\n",
    "solver.add(rabbits >= 1)\n",
    "solver.add(chicken + rabbits == 35)\n",
    "solver.add(chicken * 2 + rabbits * 4 == 94)\n",
    "if solver.check() == z3.sat:\n",
    "    print(solver.model())\n",
    "else:\n",
    "    print(\"not satisfiable\")"
   ]
  },
  {
   "cell_type": "code",
   "execution_count": 2,
   "id": "e1bd0ed6-5d7d-472a-adb5-d673bb72d460",
   "metadata": {},
   "outputs": [
    {
     "name": "stdout",
     "output_type": "stream",
     "text": [
      "1\n",
      "not satisfiable\n"
     ]
    }
   ],
   "source": [
    "circle, triangle, square = z3.Ints(\"circle triangle square\")\n",
    "solver = z3.Solver()\n",
    "solver.add(circle + circle == 10)\n",
    "solver.add(circle * square + square == 12)\n",
    "solver.add(circle * square - triangle * circle == circle)\n",
    "if solver.check() == z3.sat:\n",
    "    print(solver.model()[triangle])\n",
    "\n",
    "A, B, C, D = z3.Bools(\"A B C D\")\n",
    "solver = z3.Solver()\n",
    "# A -> B\n",
    "solver.add(-1 * z3.If(A, 1, 0) + z3.If(B, 1, 0) >=  0)\n",
    "# A -> C\n",
    "solver.add(-1 * z3.If(A, 1, 0) + z3.If(C, 1, 0) >= 0)\n",
    "# B -> D\n",
    "solver.add(-1 * z3.If(B, 1, 0) + z3.If(D, 1, 0) >= 0)\n",
    "# C -x- D\n",
    "solver.add(z3.If(C, 1, 0) + z3.If(D, 1, 0) <= 1)\n",
    "solver.add(A == True)\n",
    "\n",
    "if solver.check() == z3.sat:\n",
    "    print(solver.model())\n",
    "else:\n",
    "    print(\"not satisfiable\")"
   ]
  },
  {
   "cell_type": "code",
   "execution_count": 3,
   "id": "6f977db9-3e1d-4c28-a42f-d89ff18e8c3c",
   "metadata": {},
   "outputs": [
    {
     "name": "stdout",
     "output_type": "stream",
     "text": [
      "not satisfiable\n"
     ]
    }
   ],
   "source": [
    "A, B, C, D = z3.Bools(\"A B C D\")\n",
    "solver = z3.Solver()\n",
    "solver.add(z3.Implies(A, B))\n",
    "solver.add(z3.Implies(A, C))\n",
    "solver.add(z3.Implies(B, D))\n",
    "solver.add(z3.Implies(C, z3.Not(D)))\n",
    "solver.add(A == True)\n",
    "if solver.check() == z3.sat:\n",
    "    print(solver.model())\n",
    "else:\n",
    "    print(\"not satisfiable\")"
   ]
  },
  {
   "cell_type": "code",
   "execution_count": null,
   "id": "914eec6f-9b09-4ea1-8fcf-92ff507c353a",
   "metadata": {},
   "outputs": [],
   "source": []
  }
 ],
 "metadata": {
  "kernelspec": {
   "display_name": "Python 3 (ipykernel)",
   "language": "python",
   "name": "python3"
  },
  "language_info": {
   "codemirror_mode": {
    "name": "ipython",
    "version": 3
   },
   "file_extension": ".py",
   "mimetype": "text/x-python",
   "name": "python",
   "nbconvert_exporter": "python",
   "pygments_lexer": "ipython3",
   "version": "3.12.7"
  }
 },
 "nbformat": 4,
 "nbformat_minor": 5
}
